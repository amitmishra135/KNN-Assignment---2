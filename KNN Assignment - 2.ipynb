{
 "cells": [
  {
   "cell_type": "raw",
   "id": "f2591a60-d313-41e1-89ca-41013e9376f1",
   "metadata": {},
   "source": [
    "Q1. What is the main difference between the Euclidean distance metric and the Manhattan distance metric in KNN? How might this difference affect the performance of a KNN classifier or regressor?\n",
    "\n",
    "Answer ->"
   ]
  },
  {
   "cell_type": "markdown",
   "id": "cbf18e0f-58ca-49a3-8187-5cea95223a3c",
   "metadata": {},
   "source": [
    "Euclidean distance measures the straight-line distance between points, while Manhattan distance measures the sum of absolute differences along each dimension. \n",
    "The choice of metric can affect performance; Euclidean distance is more sensitive to outliers, while Manhattan distance is more robust in high-dimensional spaces."
   ]
  },
  {
   "cell_type": "markdown",
   "id": "e444ecb4-88be-4283-8cf5-a2dc891e5fbb",
   "metadata": {},
   "source": [
    "Q2. How do you choose the optimal value of k for a KNN classifier or regressor? What techniques can be used to determine the optimal k value?\n",
    "\n",
    "Answer ->"
   ]
  },
  {
   "cell_type": "markdown",
   "id": "68c53fa3-d8b3-4aac-b080-97dd11c69748",
   "metadata": {},
   "source": [
    "The optimal value of K can be chosen using techniques like cross-validation, where different K values are tested, and the one yielding the best performance \n",
    "metrics is selected."
   ]
  },
  {
   "cell_type": "markdown",
   "id": "5a27c9d8-c53e-4b01-9852-92397a0fef29",
   "metadata": {},
   "source": [
    "Q3. How does the choice of distance metric affect the performance of a KNN classifier or regressor? In what situations might you choose one distance metric over the other?\n",
    "\n",
    "Answer ->"
   ]
  },
  {
   "cell_type": "markdown",
   "id": "4e405ea6-b92a-48f0-834d-92817533ea2d",
   "metadata": {},
   "source": [
    "The choice of distance metric affects how distances are computed between points, impacting the model's performance. Euclidean distance works well for\n",
    "continuous, similar scales, while Manhattan distance is useful for categorical or high-dimensional data. Choose based on data distribution and problem characteristics."
   ]
  },
  {
   "cell_type": "raw",
   "id": "2889e455-df93-4c75-a7bd-333471c6fe1a",
   "metadata": {},
   "source": [
    "Q4. What are some common hyperparameters in KNN classifiers and regressors, and how do they affect the performance of the model? How might you go about tuning these hyperparameters to improve model performance?\n",
    "\n",
    "Answer ->"
   ]
  },
  {
   "cell_type": "markdown",
   "id": "e9591d5a-7793-457b-8461-1325d307b2bf",
   "metadata": {},
   "source": [
    "Common hyperparameters include:\n",
    "\n",
    "* k (number of neighbors): Affects bias-variance tradeoff. Tune using cross-validation.\n",
    "* Distance metric: Affects how distances are computed. Choose based on data type.\n",
    "* Weights: Determines the importance of neighbors (uniform or distance-based). Tune using validation."
   ]
  },
  {
   "cell_type": "markdown",
   "id": "91b3617c-79fe-4939-b3e5-c3d1fe91c2d4",
   "metadata": {},
   "source": [
    "Q5. How does the size of the training set affect the performance of a KNN classifier or regressor? What techniques can be used to optimize the size of the training set?\n",
    "\n",
    "Answer ->"
   ]
  },
  {
   "cell_type": "markdown",
   "id": "b11b86c0-8a07-4c31-9e58-dfd8ea0c80a4",
   "metadata": {},
   "source": [
    "A larger training set generally improves KNN performance by providing more information but increases computational cost. Techniques to optimize size \n",
    "include using a representative subset or applying techniques like clustering to reduce dimensionality."
   ]
  },
  {
   "cell_type": "markdown",
   "id": "133e3d4a-fdfe-4521-9304-57ea51903a6e",
   "metadata": {},
   "source": [
    "Q6. What are some potential drawbacks of using KNN as a classifier or regressor? How might you overcome these drawbacks to improve the performance of the model?\n",
    "\n",
    "Answer ->"
   ]
  },
  {
   "cell_type": "markdown",
   "id": "03cbfd70-0f57-4b65-930b-784af1677eb4",
   "metadata": {},
   "source": [
    "Drawbacks include:\n",
    "\n",
    "* Computational cost: High at prediction time. Use efficient data structures like KD-trees.\n",
    "* Curse of dimensionality: Distances become less meaningful. Apply dimensionality reduction techniques.\n",
    "* Sensitivity to irrelevant features: Preprocess data with feature selection or scaling.\n"
   ]
  },
  {
   "cell_type": "code",
   "execution_count": null,
   "id": "e58b793b-175d-4905-9fd8-7fc4c612c46e",
   "metadata": {},
   "outputs": [],
   "source": []
  }
 ],
 "metadata": {
  "kernelspec": {
   "display_name": "Python 3 (ipykernel)",
   "language": "python",
   "name": "python3"
  },
  "language_info": {
   "codemirror_mode": {
    "name": "ipython",
    "version": 3
   },
   "file_extension": ".py",
   "mimetype": "text/x-python",
   "name": "python",
   "nbconvert_exporter": "python",
   "pygments_lexer": "ipython3",
   "version": "3.10.8"
  }
 },
 "nbformat": 4,
 "nbformat_minor": 5
}
